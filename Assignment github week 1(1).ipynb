{
 "cells": [
  {
   "cell_type": "code",
   "execution_count": 1,
   "id": "9596d517-31b8-488a-b751-191481d5c0ad",
   "metadata": {},
   "outputs": [],
   "source": [
    "# Create a variable containing following type of data:\n",
    "#(1) string \n",
    "#(2) list \n",
    "#(3) float\n",
    "#(4) tuple "
   ]
  },
  {
   "cell_type": "code",
   "execution_count": 3,
   "id": "047f38af-16ce-46dc-8bf5-8408e93bda94",
   "metadata": {},
   "outputs": [
    {
     "name": "stdout",
     "output_type": "stream",
     "text": [
      "<class 'str'>\n"
     ]
    }
   ],
   "source": [
    " # string \n",
    "string = \"Dipanshu\"\n",
    "print(type(string))"
   ]
  },
  {
   "cell_type": "code",
   "execution_count": 4,
   "id": "c3d84e0d-97aa-4efd-9607-465768eed5e1",
   "metadata": {},
   "outputs": [
    {
     "name": "stdout",
     "output_type": "stream",
     "text": [
      "<class 'list'>\n"
     ]
    }
   ],
   "source": [
    "# list\n",
    "a = [True, 44, 88, 5+4j, \"Naman\"]\n",
    "print(type(a))"
   ]
  },
  {
   "cell_type": "code",
   "execution_count": 5,
   "id": "092eb422-6fab-41cb-bcd9-5ebc4811462c",
   "metadata": {},
   "outputs": [
    {
     "name": "stdout",
     "output_type": "stream",
     "text": [
      "<class 'float'>\n"
     ]
    }
   ],
   "source": [
    "# float\n",
    "b = 45.99\n",
    "print(type(b))"
   ]
  },
  {
   "cell_type": "code",
   "execution_count": 6,
   "id": "a0eaabe2-72aa-4527-ab1f-f5f26cfac569",
   "metadata": {},
   "outputs": [
    {
     "name": "stdout",
     "output_type": "stream",
     "text": [
      "<class 'tuple'>\n"
     ]
    }
   ],
   "source": [
    "# Tuple \n",
    "c = (\"apple\", \"banana\", \"cherry\")\n",
    "print(type(c))"
   ]
  },
  {
   "cell_type": "code",
   "execution_count": 7,
   "id": "5a331a48-ba10-46c5-bf20-715eb29a8b24",
   "metadata": {},
   "outputs": [],
   "source": [
    "# Tuple are immutable but list is immutable "
   ]
  },
  {
   "cell_type": "code",
   "execution_count": null,
   "id": "06052818-d2c1-4b22-ab7e-bfa7548c43de",
   "metadata": {},
   "outputs": [],
   "source": []
  },
  {
   "cell_type": "code",
   "execution_count": 8,
   "id": "92635bad-d294-42f8-acc8-4405414dc7fe",
   "metadata": {},
   "outputs": [],
   "source": [
    "# Q2 Given are some following variables containing data:\n",
    "#1 var1 = ''\n",
    "#2 var2 = '[DS, ML, Python]'\n",
    "#3 var3 = ['DS', 'ML', 'Python']\n",
    "#4 var4 = 1\n",
    "\n",
    "# What will be the data types of the above given variable."
   ]
  },
  {
   "cell_type": "code",
   "execution_count": 9,
   "id": "7e8578b4-42f2-4d94-8229-f2642a92e7c2",
   "metadata": {},
   "outputs": [
    {
     "name": "stdout",
     "output_type": "stream",
     "text": [
      "<class 'str'>\n"
     ]
    }
   ],
   "source": [
    "var1 = ''\n",
    "print(type(var1))"
   ]
  },
  {
   "cell_type": "code",
   "execution_count": 10,
   "id": "df59c30c-8701-4e9a-995a-e66c9429a5c5",
   "metadata": {},
   "outputs": [
    {
     "name": "stdout",
     "output_type": "stream",
     "text": [
      "<class 'str'>\n"
     ]
    }
   ],
   "source": [
    "var2 = '[DS, ML, Python]'\n",
    "print(type(var2))"
   ]
  },
  {
   "cell_type": "code",
   "execution_count": 11,
   "id": "093035af-e4b1-497f-a96e-6591ba9a56ce",
   "metadata": {},
   "outputs": [
    {
     "name": "stdout",
     "output_type": "stream",
     "text": [
      "<class 'list'>\n"
     ]
    }
   ],
   "source": [
    "var3 = ['DS', 'ML', 'Python']\n",
    "print(type(var3))"
   ]
  },
  {
   "cell_type": "code",
   "execution_count": 13,
   "id": "cbe5e8cf-cda2-4b0f-8391-cd92c29ea2be",
   "metadata": {},
   "outputs": [
    {
     "name": "stdout",
     "output_type": "stream",
     "text": [
      "<class 'float'>\n"
     ]
    }
   ],
   "source": [
    "var4 = 1.\n",
    "print(type(var4))"
   ]
  },
  {
   "cell_type": "code",
   "execution_count": null,
   "id": "1d024947-5271-494f-a635-cac3e407b9bc",
   "metadata": {},
   "outputs": [],
   "source": []
  },
  {
   "cell_type": "code",
   "execution_count": 14,
   "id": "3c8d4c34-603e-42f1-a797-f7a38fd225a8",
   "metadata": {},
   "outputs": [],
   "source": [
    "# Explain the use of the following operators using an example:\n",
    "#(1) /\n",
    "#(2) %\n",
    "#(3) //\n",
    "#(4) **"
   ]
  },
  {
   "cell_type": "code",
   "execution_count": 15,
   "id": "6f0433f2-ab49-4601-9996-bf8f43c8acce",
   "metadata": {},
   "outputs": [
    {
     "name": "stdout",
     "output_type": "stream",
     "text": [
      "2.0\n"
     ]
    }
   ],
   "source": [
    "#(1) '/' - This is called divisible operator which is used to divide two numbers\n",
    "# example -:\n",
    "a = 8\n",
    "b = 4\n",
    "Result = a/b\n",
    "print(Result)"
   ]
  },
  {
   "cell_type": "code",
   "execution_count": 16,
   "id": "0e757689-badf-4978-86fc-18a0578fc74f",
   "metadata": {},
   "outputs": [
    {
     "name": "stdout",
     "output_type": "stream",
     "text": [
      "1\n"
     ]
    }
   ],
   "source": [
    "#(2) '%' - This is called modulus operator which divides the given numerator by the denominator to find a result \n",
    "# In simple it divides the given numerator by the denominator to find a result\n",
    "# example -:\n",
    "x = 5\n",
    "y = 2\n",
    "Result = x%y\n",
    "print(Result)"
   ]
  },
  {
   "cell_type": "code",
   "execution_count": 18,
   "id": "65c6e38b-a3aa-45fc-bbec-af7eca22f61e",
   "metadata": {},
   "outputs": [
    {
     "name": "stdout",
     "output_type": "stream",
     "text": [
      "10\n"
     ]
    }
   ],
   "source": [
    "#(3) '//' - This operator is also called as floor division \n",
    "#the floor division // rounds the result down to the nearest whole number\n",
    "# example -:\n",
    "x = 21\n",
    "y = 2\n",
    "Result = x // y\n",
    "print(Result)"
   ]
  },
  {
   "cell_type": "code",
   "execution_count": 19,
   "id": "0809c3b8-0367-408a-b6e9-e14b927db306",
   "metadata": {},
   "outputs": [
    {
     "name": "stdout",
     "output_type": "stream",
     "text": [
      "16\n"
     ]
    }
   ],
   "source": [
    "#(4) '**' - This operator is also called as Exponentiation\n",
    "# This operator is used to raise a number to the power of another number\n",
    "# example -:\n",
    "x = 2\n",
    "y = 4\n",
    "Result = x ** y  \n",
    "#same as 2*2*2*2\n",
    "print(Result)\n"
   ]
  },
  {
   "cell_type": "code",
   "execution_count": null,
   "id": "74632324-bfd7-489a-b958-eadbc637eed9",
   "metadata": {},
   "outputs": [],
   "source": []
  },
  {
   "cell_type": "code",
   "execution_count": 20,
   "id": "36968972-5350-4de7-a034-1c449375d752",
   "metadata": {},
   "outputs": [],
   "source": [
    "# Q4- Create a list of length 10 of your choice containing multiple types of data. Using for loop\n",
    "# print the element and its data type."
   ]
  },
  {
   "cell_type": "code",
   "execution_count": 22,
   "id": "1da2b42a-e94d-4a31-b586-6159f38bf20f",
   "metadata": {},
   "outputs": [
    {
     "name": "stdout",
     "output_type": "stream",
     "text": [
      "Krish <class 'str'>\n",
      "Dipanshu <class 'str'>\n",
      "Naman <class 'str'>\n",
      "True <class 'bool'>\n",
      "44 <class 'int'>\n",
      "(9+5j) <class 'complex'>\n",
      "False <class 'bool'>\n",
      "99 <class 'int'>\n",
      "7.67 <class 'float'>\n",
      "8 + 4j <class 'str'>\n"
     ]
    }
   ],
   "source": [
    "box = [\"Krish\", \"Dipanshu\", \"Naman\", True, 44, 9 + 5j, False, 99, 7.67, \"8 + 4j\"]\n",
    "for items in box:\n",
    "    print(items, type(items))"
   ]
  },
  {
   "cell_type": "code",
   "execution_count": null,
   "id": "5b3fe166-8474-4199-92c7-2727bd3782c6",
   "metadata": {},
   "outputs": [],
   "source": []
  },
  {
   "cell_type": "code",
   "execution_count": 23,
   "id": "96f83e44-c6df-47f3-8b8f-bde5a6a14d0d",
   "metadata": {},
   "outputs": [],
   "source": [
    "# Q5 - Using a while loop, verify if the number A is purely divisible by number B and if so then how many\n",
    "# times it can be divisible"
   ]
  },
  {
   "cell_type": "code",
   "execution_count": 27,
   "id": "65f1bbc3-f70d-444c-bbf2-37485bf89226",
   "metadata": {},
   "outputs": [
    {
     "name": "stdout",
     "output_type": "stream",
     "text": [
      "2\n"
     ]
    }
   ],
   "source": [
    "a = 500\n",
    "b = 10\n",
    "division = 0\n",
    "while a % b == 0:\n",
    "    a = a // b\n",
    "    division += 1\n",
    "print(division)"
   ]
  },
  {
   "cell_type": "code",
   "execution_count": null,
   "id": "8803907a-d4a9-45d1-b8ef-7ea00863d62b",
   "metadata": {},
   "outputs": [],
   "source": []
  },
  {
   "cell_type": "code",
   "execution_count": 25,
   "id": "a4b13da6-c53d-4d1c-b9c9-858b5049d20b",
   "metadata": {},
   "outputs": [],
   "source": [
    "# Q6 - Create a list containing 25 int type data. using for loop and if-else condition print if the element is \n",
    "# divisible by 3 or not"
   ]
  },
  {
   "cell_type": "code",
   "execution_count": 29,
   "id": "549d6ddd-b474-4ccc-967c-ed02b74deae1",
   "metadata": {},
   "outputs": [
    {
     "data": {
      "text/plain": [
       "25"
      ]
     },
     "execution_count": 29,
     "metadata": {},
     "output_type": "execute_result"
    }
   ],
   "source": [
    "box_items = [2, 3, 4, 6, 8, 9, 15, 21, 25, 30, 44, 46, 57, 99, 39, 43, 55, 92, 102, 124, 22, 90, 150, 157, 199]\n",
    "len(box_items)"
   ]
  },
  {
   "cell_type": "code",
   "execution_count": 30,
   "id": "13f1c4fa-2db9-4903-8235-fac03ef80e39",
   "metadata": {},
   "outputs": [
    {
     "name": "stdout",
     "output_type": "stream",
     "text": [
      "2 is not divisible by 3\n",
      "3 is divisible by 3\n",
      "4 is not divisible by 3\n",
      "6 is divisible by 3\n",
      "8 is not divisible by 3\n",
      "9 is divisible by 3\n",
      "15 is divisible by 3\n",
      "21 is divisible by 3\n",
      "25 is not divisible by 3\n",
      "30 is divisible by 3\n",
      "44 is not divisible by 3\n",
      "46 is not divisible by 3\n",
      "57 is divisible by 3\n",
      "99 is divisible by 3\n",
      "39 is divisible by 3\n",
      "43 is not divisible by 3\n",
      "55 is not divisible by 3\n",
      "92 is not divisible by 3\n",
      "102 is divisible by 3\n",
      "124 is not divisible by 3\n",
      "22 is not divisible by 3\n",
      "90 is divisible by 3\n",
      "150 is divisible by 3\n",
      "157 is not divisible by 3\n",
      "199 is not divisible by 3\n"
     ]
    }
   ],
   "source": [
    "for i in box_items:\n",
    "    if i % 3 == 0:\n",
    "        print(i, \"is divisible by 3\")\n",
    "    else:\n",
    "        print(i, \"is not divisible by 3\")"
   ]
  },
  {
   "cell_type": "raw",
   "id": "90c7a2ac-0ba5-4dc7-aeeb-7b3230b865e8",
   "metadata": {},
   "source": []
  },
  {
   "cell_type": "code",
   "execution_count": 31,
   "id": "7c40fd63-277c-467d-a00d-6f35ef072138",
   "metadata": {},
   "outputs": [],
   "source": [
    "# Q7 - What do you understand about mutable and immutable data types? Give examples for both showing this property."
   ]
  },
  {
   "cell_type": "code",
   "execution_count": 34,
   "id": "a62de724-7b42-4202-8863-6e9787b7aa3c",
   "metadata": {},
   "outputs": [
    {
     "name": "stdout",
     "output_type": "stream",
     "text": [
      "55\n",
      "56\n",
      "[34, 55, 77, 88, 100, 56, 99]\n"
     ]
    }
   ],
   "source": [
    "# Mutable data type -: Mutable data types are those whose values can be changed or new values can be assigned to them\n",
    "#example -: list, dictionary, set\n",
    "box = [34, 55, 77, 88, 9, 56, 99]\n",
    "# if we want to access each number in upper list we can \n",
    "print(box[1])\n",
    "print(box[-2])\n",
    "box[4] = 100\n",
    "print(box)"
   ]
  },
  {
   "cell_type": "code",
   "execution_count": null,
   "id": "27805a64-0392-456c-9537-2abcfee75de3",
   "metadata": {},
   "outputs": [],
   "source": []
  },
  {
   "cell_type": "code",
   "execution_count": null,
   "id": "71df0ac0-d10b-486e-adcd-4230b18e7ecb",
   "metadata": {},
   "outputs": [],
   "source": [
    "# Immutable data type -: Immutable datatypes are objects that cannot be modified or altered after they have been created \n",
    "# (for example, by adding new elements, removing elements, or replacing elements)\n",
    "name = \"NAMAN\"\n",
    "# if we try to change its index value it will not change because string is immutable\n",
    "name[1] = \"b\""
   ]
  },
  {
   "cell_type": "code",
   "execution_count": null,
   "id": "cbccf7d6-0d0a-4bed-a781-f49486a2292f",
   "metadata": {},
   "outputs": [],
   "source": []
  },
  {
   "cell_type": "code",
   "execution_count": null,
   "id": "fb6747cc-c85e-43d3-9076-cea5a4e3ba43",
   "metadata": {},
   "outputs": [],
   "source": []
  },
  {
   "cell_type": "code",
   "execution_count": null,
   "id": "6a95aee0-701c-42cd-9d1d-ed9633233dd7",
   "metadata": {},
   "outputs": [],
   "source": []
  },
  {
   "cell_type": "code",
   "execution_count": null,
   "id": "799f1c07-7ec4-44d9-a572-2b8a81b4feab",
   "metadata": {},
   "outputs": [],
   "source": []
  },
  {
   "cell_type": "code",
   "execution_count": null,
   "id": "140ced4e-9fd4-4a47-a597-2173441c9999",
   "metadata": {},
   "outputs": [],
   "source": []
  },
  {
   "cell_type": "code",
   "execution_count": null,
   "id": "0140db7f-ce7a-433c-8be1-3d84aa869c62",
   "metadata": {},
   "outputs": [],
   "source": []
  },
  {
   "cell_type": "code",
   "execution_count": null,
   "id": "1231e279-e3c9-4dc8-8ac9-a8ea7bfc3a97",
   "metadata": {},
   "outputs": [],
   "source": []
  },
  {
   "cell_type": "code",
   "execution_count": null,
   "id": "a0208d78-93d8-4b30-8512-5a46de0e93cb",
   "metadata": {},
   "outputs": [],
   "source": []
  },
  {
   "cell_type": "code",
   "execution_count": null,
   "id": "eee2b3f8-db5c-41c2-97a2-773ef4614c89",
   "metadata": {},
   "outputs": [],
   "source": []
  },
  {
   "cell_type": "code",
   "execution_count": null,
   "id": "035b52b6-a629-465a-9773-f08726a9ef10",
   "metadata": {},
   "outputs": [],
   "source": []
  },
  {
   "cell_type": "code",
   "execution_count": null,
   "id": "28419be9-26c4-4b7c-a02f-f1d6371f3905",
   "metadata": {},
   "outputs": [],
   "source": []
  },
  {
   "cell_type": "code",
   "execution_count": null,
   "id": "199a2d8d-ccf2-4789-9f3b-466502b878c9",
   "metadata": {},
   "outputs": [],
   "source": []
  },
  {
   "cell_type": "code",
   "execution_count": null,
   "id": "49e715d8-82e4-40a8-9704-83f10acd2482",
   "metadata": {},
   "outputs": [],
   "source": []
  },
  {
   "cell_type": "code",
   "execution_count": null,
   "id": "bb9b6c96-df92-4fde-ac49-b7b86d06977a",
   "metadata": {},
   "outputs": [],
   "source": []
  },
  {
   "cell_type": "code",
   "execution_count": null,
   "id": "aa0ad28a-04a5-4713-baf4-322a21ea0c4c",
   "metadata": {},
   "outputs": [],
   "source": []
  },
  {
   "cell_type": "code",
   "execution_count": null,
   "id": "79a50e43-b640-4fb7-b7c4-f20e381ebb9b",
   "metadata": {},
   "outputs": [],
   "source": []
  },
  {
   "cell_type": "code",
   "execution_count": null,
   "id": "fd3c8584-4784-4bca-b5a4-190f721f3089",
   "metadata": {},
   "outputs": [],
   "source": []
  }
 ],
 "metadata": {
  "kernelspec": {
   "display_name": "Python 3 (ipykernel)",
   "language": "python",
   "name": "python3"
  },
  "language_info": {
   "codemirror_mode": {
    "name": "ipython",
    "version": 3
   },
   "file_extension": ".py",
   "mimetype": "text/x-python",
   "name": "python",
   "nbconvert_exporter": "python",
   "pygments_lexer": "ipython3",
   "version": "3.10.8"
  }
 },
 "nbformat": 4,
 "nbformat_minor": 5
}
